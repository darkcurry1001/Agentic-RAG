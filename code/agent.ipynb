{
 "cells": [
  {
   "cell_type": "markdown",
   "id": "f819959e",
   "metadata": {},
   "source": [
    "## RAG Agent"
   ]
  },
  {
   "cell_type": "code",
   "execution_count": 26,
   "id": "505bd0b8",
   "metadata": {},
   "outputs": [
    {
     "name": "stderr",
     "output_type": "stream",
     "text": [
      "c:\\Users\\Anwender\\anaconda3\\envs\\RAG\\lib\\site-packages\\langsmith\\client.py:278: LangSmithMissingAPIKeyWarning: API key must be provided when using hosted LangSmith API\n",
      "  warnings.warn(\n"
     ]
    }
   ],
   "source": [
    "from langchain import hub\n",
    "from langchain_core.documents import Document\n",
    "from langchain_huggingface import HuggingFaceEmbeddings\n",
    "from langchain_ollama import ChatOllama\n",
    "from langchain_qdrant import QdrantVectorStore\n",
    "from langgraph.graph import START, StateGraph\n",
    "from qdrant_client import QdrantClient\n",
    "from qdrant_client.models import Filter, FieldCondition, MatchValue\n",
    "from typing_extensions import List, TypedDict, Annotated, Literal\n",
    "\n",
    "\n",
    "# set parameters\n",
    "#---------------------------------------------------------------------------------------\n",
    "# Qdrant parameters\n",
    "collection_name = \"demo_collection\" # name of the Qdrant collection\n",
    "db_path = \"test_rag_db\" # path to the Qdrant database\n",
    "\n",
    "# embedding model parameters\n",
    "model_name = \"sentence-transformers/all-mpnet-base-v2\" # embedding model name\n",
    "\n",
    "# LLM parameters\n",
    "llm_name = \"llama3.1:8b\" # name of the LLM model\n",
    "prompt_extention = \"Please provide a detailed answer to the question containing all the information provided in the context.\" # additional prompt text to get more detailed output\n",
    "k = 5 # number of documents to retrieve from the RAG database\n",
    "#---------------------------------------------------------------------------------------\n",
    "\n",
    "\n",
    "# Define prompt for question-answering\n",
    "prompt = hub.pull(\"rlm/rag-prompt\")\n",
    "prompt.messages[0].prompt.template  = \"\"\"You are an assistant for question-answering tasks. Use the following pieces of retrieved context to answer the question. If you don't know the answer, just say that you don't know.\n",
    "            Question: {question} \n",
    "            Context: {context} \n",
    "            Answer:\"\"\"\n",
    "\n",
    "class Search(TypedDict):\n",
    "\n",
    "    query: Annotated[str, ..., \"Search query to run.\"]\n",
    "    company: Annotated[\n",
    "        Literal[\"loreal\", \"Beiersdorf\"],     # list of all companies in the database (add all companies here), ev also add topic filter\n",
    "        ...,\n",
    "        \"company to query.\",\n",
    "    ]\n",
    "\n",
    "# Define state for application\n",
    "class State(TypedDict):\n",
    "    question: str\n",
    "    query: Search\n",
    "    context: List[Document]\n",
    "    answer: str\n",
    "\n",
    "# embedding model\n",
    "embeddings = HuggingFaceEmbeddings(model_name=model_name)\n",
    "\n",
    "# Define LLM for question-answering\n",
    "llm = ChatOllama(model=llm_name)\n",
    "\n",
    "# Initialize the Qdrant client with a local path\n",
    "client = QdrantClient(path=db_path)\n",
    "\n",
    "try:\n",
    "    vector_store = QdrantVectorStore(\n",
    "        client=client,\n",
    "        collection_name=collection_name,\n",
    "        embedding=embeddings,\n",
    "    )\n",
    "finally:\n",
    "    pass\n",
    "    #client.close()\n",
    "    \n",
    "# Define application steps\n",
    "def analyze_query(state: State):\n",
    "    structured_llm = llm.with_structured_output(Search)\n",
    "    query = structured_llm.invoke(state[\"question\"])\n",
    "    return {\"query\": query}\n",
    "\n",
    "def retrieve(state: State):\n",
    "    query = state[\"query\"]\n",
    "    retrieved_docs = vector_store.similarity_search(\n",
    "        query[\"query\"],\n",
    "        filter=Filter(must=[FieldCondition(key=\"metadata.company\", match=MatchValue(value=query[\"company\"]))]),\n",
    "        k=k,\n",
    "    )\n",
    "    return {\"context\": retrieved_docs}\n",
    "\n",
    "def generate(state: State):\n",
    "    docs_content = \"\\n\\n\".join(doc.page_content for doc in state[\"context\"])\n",
    "    messages = prompt.invoke({\"question\": state[\"question\"] + prompt_extention, \"context\": docs_content})    \n",
    "    response = llm.invoke(messages)\n",
    "    return {\"answer\": response.content}\n",
    "\n",
    "# Compile application and test\n",
    "graph_builder = StateGraph(State).add_sequence([analyze_query, retrieve, generate])\n",
    "graph_builder.add_edge(START, \"analyze_query\")\n",
    "graph = graph_builder.compile()"
   ]
  },
  {
   "cell_type": "code",
   "execution_count": 28,
   "id": "e922af1a",
   "metadata": {},
   "outputs": [
    {
     "name": "stdout",
     "output_type": "stream",
     "text": [
      "09:45:59\n",
      "Metadata: Beiersdorf\n",
      "Context: [Document(metadata={'company': 'Beiersdorf', 'topic': 'ethics', 'source_file': 'beiersdorf_ethics.json', '_id': 5, '_collection_name': 'demo_collection'}, page_content='certified cruelty-free brand by PETA or the Leaping Bunny program, as its compliance with Chinese regulations means some products may still be subject to animal testing in specific markets. However, the company is a member of the European Partnership for Alternative Approaches to Animal Testing (EPAA), reflecting its investment in non-animal research methods. **Labor Conditions:** Beiersdorf adheres to international labor standards and is a member of the United Nations Global Compact, committing to fair labor practices, human rights, and anti-corruption measures. The company’s 2022 Sustainability Report highlights initiatives to ensure safe working conditions, fair wages, and employee development programs across its supply chain. Independent audits, such as those by the Sedex Members Ethical Trade Audit (SMETA), have been conducted for some of Beiersdorf’s suppliers, though comprehensive public data on all suppliers is limited. Reports from organizations like the Business & Human'), Document(metadata={'company': 'Beiersdorf', 'topic': 'ethics', 'source_file': 'beiersdorf_ethics.json', '_id': 4, '_collection_name': 'demo_collection'}, page_content='Beiersdorf, the German multinational company behind brands like Nivea, Eucerin, and La Prairie, has a long-standing presence in the skincare industry. The company’s ethical practices have been scrutinized in several areas, including animal testing, labor conditions, and corporate transparency. This report compiles verified information from both company sources and independent assessments. **Animal Testing:** Beiersdorf states on its official website that it does not conduct animal testing for its cosmetic products, except where required by law (e.g., in China, where regulatory authorities may require animal testing for certain products). The company emphasizes its commitment to alternative testing methods and supports the global ban on cosmetic animal testing. Beiersdorf is not listed as a certified cruelty-free brand by PETA or the Leaping Bunny program, as its compliance with Chinese regulations means some products may still be subject to animal testing in specific markets. However,'), Document(metadata={'company': 'Beiersdorf', 'topic': 'ethics', 'source_file': 'beiersdorf_ethics.json', '_id': 7, '_collection_name': 'demo_collection'}, page_content='palm oil, which is certified by the Roundtable on Sustainable Palm Oil (RSPO)). Beiersdorf’s commitment to reducing CO2 emissions (aiming for carbon neutrality by 2025) and its use of recyclable packaging are noted as positive steps. **Independent Assessments:** While Beiersdorf is not listed by PETA or Leaping Bunny due to its presence in China, it has received praise for reducing animal testing reliance. The company’s ESG scores from agencies like MSCI (AA rating) and Sustainalytics (low-risk rating) reflect strong governance and moderate ethical performance. However, ongoing scrutiny is recommended, especially regarding supply chain transparency and market-specific animal testing policies. Sources: Beiersdorf Sustainability Report 2022, UN Global Compact, CDP, EPAA, RSPO, MSCI, Sustainalytics, Business & Human Rights Resource Centre.'), Document(metadata={'company': 'Beiersdorf', 'topic': 'environment', 'source_file': 'beiersdorf_env.json', '_id': 2, '_collection_name': 'demo_collection'}, page_content='MacArthur Foundation to advance circular economy principles. Water Stewardship: The company has reduced water consumption in its production processes by 35% since 2014, implementing water-saving technologies and recycling systems. Beiersdorf is a member of the Alliance for Water Stewardship (AWS) and has certified several sites, including its Hamburg factory, under the AWS Standard. Responsible Sourcing: Beiersdorf adheres to strict sourcing guidelines for raw materials, prioritizing certified sustainable ingredients. For example, 100% of its palm oil derivatives are RSPO (Roundtable on Sustainable Palm Oil)-certified, and it sources organic shea butter through fair trade partnerships. The company has also committed to zero deforestation in its supply chain by 2025. Independent audits by organizations like Rainforest Alliance verify these claims. Challenges and Criticisms: Despite progress, Beiersdorf faces challenges, such as the environmental impact of its global supply chain and'), Document(metadata={'company': 'Beiersdorf', 'topic': 'ethics', 'source_file': 'beiersdorf_ethics.json', '_id': 6, '_collection_name': 'demo_collection'}, page_content=\"Ethical Trade Audit (SMETA), have been conducted for some of Beiersdorf’s suppliers, though comprehensive public data on all suppliers is limited. Reports from organizations like the Business & Human Rights Resource Centre have not flagged major labor violations, but transparency regarding subcontractors remains an area for improvement. **Corporate Transparency:** Beiersdorf publishes annual sustainability reports detailing its environmental, social, and governance (ESG) performance. The company has received recognition for its transparency, including a 'B' rating from CDP (formerly the Carbon Disclosure Project) for climate change disclosure. However, critics argue that Beiersdorf could provide more granular data on its supply chain, particularly concerning raw material sourcing (e.g., palm oil, which is certified by the Roundtable on Sustainable Palm Oil (RSPO)). Beiersdorf’s commitment to reducing CO2 emissions (aiming for carbon neutrality by 2025) and its use of recyclable\")]\n",
      "\n",
      "\n",
      "Answer RAG: Based on the provided context, I can tell you that Beiersdorf conducts animal testing in certain circumstances. According to the text, \"Beiersdorf states on its official website that it does not conduct animal testing for its cosmetic products, except where required by law (e.g., in China, where regulatory authorities may require animal testing for certain products).\" This means that while Beiersdorf does not intentionally test on animals, some of their products may still be subject to animal testing due to local regulations in countries like China.\n",
      "\n",
      "However, it's worth noting that the company is a member of the European Partnership for Alternative Approaches to Animal Testing (EPAA), which indicates its commitment to non-animal research methods. Additionally, Beiersdorf supports the global ban on cosmetic animal testing and emphasizes its commitment to alternative testing methods.\n",
      "\n",
      "It's also mentioned in the context that Beiersdorf is not listed as a certified cruelty-free brand by PETA or the Leaping Bunny program due to its compliance with Chinese regulations. This may be seen as a limitation, but it doesn't necessarily mean that the company conducts animal testing on a large scale.\n",
      "\n",
      "\n",
      "09:46:46\n",
      "\n",
      "Answer LLM: Beiersdorf, the parent company of brands such as Nivea and Eucerin, has a policy in place regarding animal testing.\n",
      "\n",
      "According to their website and publicly available information, Beiersdorf is committed to minimizing animal testing whenever possible. They claim to be working towards replacing animal tests with alternative methods, which are considered more humane and reliable.\n",
      "\n",
      "However, it's worth noting that some of the company's products may still undergo animal testing in specific situations or countries where such testing is required by law or regulation.\n",
      "\n",
      "Here are a few points from Beiersdorf's website regarding their stance on animal testing:\n",
      "\n",
      "1. **Animal testing only when necessary**: Beiersdorf aims to avoid animal testing whenever possible and only conducts tests when they are legally required, such as for regulatory purposes in certain countries.\n",
      "2. **In-house research using alternative methods**: The company is investing in the development of alternative test methods that can replace or reduce the need for animal testing.\n",
      "3. **Participation in international partnerships**: Beiersdorf participates in various initiatives aimed at reducing animal testing worldwide and promoting the use of more humane, reliable, and efficient testing methods.\n",
      "\n",
      "Some sources, such as PETA (People for the Ethical Treatment of Animals), have criticized Beiersdorf's policy on animal testing, stating that some products still undergo animal testing. However, it appears that the company is making efforts to minimize animal testing and move towards alternative methods.\n",
      "\n",
      "If you're concerned about animal testing when purchasing Nivea or Eucerin products, I recommend checking the specific product label for information on its testing status or contacting Beiersdorf's customer service directly for more details.\n",
      "\n",
      "Keep in mind that policies can change over time, so it's always a good idea to double-check the company's stance on animal testing.\n",
      "\n",
      "Sources:\n",
      "\n",
      "* Beiersdorf website: [www.beiersdorf.com](http://www.beiersdorf.com)\n",
      "* PETA website: [www.peta.org](http://www.peta.org)\n",
      "09:47:56\n"
     ]
    }
   ],
   "source": [
    "import time\n",
    "print(time.strftime(\"%H:%M:%S\", time.localtime()))\n",
    "result = graph.invoke({\"question\": \"Can you tell me if Beiersdorf conducts animal testing?\"})\n",
    "\n",
    "\n",
    "print(f'Metadata: {result[\"query\"][\"company\"]}')\n",
    "print(f'Context: {result[\"context\"]}\\n\\n')\n",
    "print(f'Answer RAG: {result[\"answer\"]}\\n\\n')\n",
    "print(time.strftime(\"%H:%M:%S\", time.localtime()))\n",
    "print(f'\\nAnswer LLM: {llm.invoke(\"Can you tell me if Beiersdorf conducts animal testing?\").content}')\n",
    "print(time.strftime(\"%H:%M:%S\", time.localtime()))"
   ]
  },
  {
   "cell_type": "code",
   "execution_count": 24,
   "id": "3cbadb1e",
   "metadata": {},
   "outputs": [],
   "source": [
    "client.close()"
   ]
  },
  {
   "cell_type": "code",
   "execution_count": 34,
   "id": "8d96b23e",
   "metadata": {},
   "outputs": [
    {
     "ename": "NameError",
     "evalue": "name 'Image' is not defined",
     "output_type": "error",
     "traceback": [
      "\u001b[1;31m---------------------------------------------------------------------------\u001b[0m",
      "\u001b[1;31mNameError\u001b[0m                                 Traceback (most recent call last)",
      "Cell \u001b[1;32mIn[34], line 1\u001b[0m\n\u001b[1;32m----> 1\u001b[0m display(\u001b[43mImage\u001b[49m(graph\u001b[38;5;241m.\u001b[39mget_graph()\u001b[38;5;241m.\u001b[39mdraw_mermaid_png()))\n",
      "\u001b[1;31mNameError\u001b[0m: name 'Image' is not defined"
     ]
    }
   ],
   "source": [
    "display(Image(graph.get_graph().draw_mermaid_png()))"
   ]
  }
 ],
 "metadata": {
  "kernelspec": {
   "display_name": "RAG",
   "language": "python",
   "name": "python3"
  },
  "language_info": {
   "codemirror_mode": {
    "name": "ipython",
    "version": 3
   },
   "file_extension": ".py",
   "mimetype": "text/x-python",
   "name": "python",
   "nbconvert_exporter": "python",
   "pygments_lexer": "ipython3",
   "version": "3.10.16"
  }
 },
 "nbformat": 4,
 "nbformat_minor": 5
}
