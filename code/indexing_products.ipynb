{
 "cells": [
  {
   "cell_type": "markdown",
   "id": "6355fcd9",
   "metadata": {},
   "source": [
    "# Indexing script for products"
   ]
  },
  {
   "cell_type": "code",
   "execution_count": null,
   "id": "eb205345",
   "metadata": {},
   "outputs": [
    {
     "name": "stdout",
     "output_type": "stream",
     "text": [
      "Added 10 documents to the collection 'product_collection'\n"
     ]
    }
   ],
   "source": [
    "from qdrant_client import QdrantClient\n",
    "from qdrant_client.models import Distance, VectorParams\n",
    "from langchain_huggingface import HuggingFaceEmbeddings\n",
    "from langchain_qdrant import QdrantVectorStore\n",
    "from langchain_core.documents.base import Document\n",
    "import json\n",
    "\n",
    "\n",
    "\n",
    "# set parameters\n",
    "#---------------------------------------------------------------------------------------\n",
    "# general parameters\n",
    "product_file = \"notino_products_info.json\" # json file containing product information\n",
    "\n",
    "# Qdrant parameters\n",
    "collection_name = \"product_collection\" # name of the Qdrant collection\n",
    "db_path = \"test_rag_db\" # path to the Qdrant database\n",
    "distance = Distance.COSINE # distance metric for the Qdrant database\n",
    "\n",
    "# embedding model parameters\n",
    "model_name = \"sentence-transformers/all-mpnet-base-v2\" # embedding model name\n",
    "#---------------------------------------------------------------------------------------\n",
    "\n",
    "# load and process items from the product file\n",
    "with open(product_file) as f:\n",
    "    product_list = json.load(f)\n",
    "\n",
    "    docs = [Document(product[\"description\"] + \"\\n\\n\" + product[\"full_description\"], \n",
    "                     metadata={\"url\": product[\"url\"],\n",
    "                               \"brand\": product[\"brand\"],\n",
    "                               \"product_name\": product[\"product_name\"],\n",
    "                               \"price\": product[\"price\"],\n",
    "                               \"composition\": product[\"composition\"],}) for product in product_list]\n",
    "\n",
    "ids = [i for i in range(len(docs))]\n",
    "\n",
    "# embedding model to convert text to vectors\n",
    "embeddings = HuggingFaceEmbeddings(model_name=model_name)\n",
    "\n",
    "# Initialize the Qdrant client with a local path\n",
    "client = QdrantClient(path=db_path)\n",
    "\n",
    "try:\n",
    "    if not client.collection_exists(collection_name):\n",
    "        # create a new collection if it doesn't exist\n",
    "\n",
    "        vector_length = len(embeddings.embed_documents([\"dummy\"])[0])  # get vector length from dummy embedding\n",
    "        client.create_collection(\n",
    "            collection_name=collection_name,\n",
    "            vectors_config=VectorParams(size=vector_length, distance=distance),\n",
    "        )\n",
    "\n",
    "    vector_store = QdrantVectorStore(\n",
    "        client=client,\n",
    "        collection_name=collection_name,\n",
    "        embedding=embeddings,\n",
    "    )\n",
    "\n",
    "    _ = vector_store.add_documents(docs, ids=ids) # metadata is contained in the documents\n",
    "    print(f\"Added {len(docs)} documents to the collection '{collection_name}'\")\n",
    "finally:\n",
    "    client.close()    "
   ]
  },
  {
   "cell_type": "code",
   "execution_count": 19,
   "id": "cce92702",
   "metadata": {},
   "outputs": [
    {
     "data": {
      "text/plain": [
       "Document(metadata={'url': 'https://www.notino.co.uk/catrice/under-eye-brightener-highlighter-to-treat-under-eye-circles/', 'brand': 'Catrice', 'product_name': 'Under Eye Brightener', 'price': 3.7, 'composition': 'PENTAERYTHRITYL TETRAISOSTEARATE, ETHYLHEXYL PALMITATE, MICA, SORBITAN SESQUIOLEATE, EUPHORBIA CERIFERA (CANDELILLA) WAX, HELIANTHUS ANNUUS (SUNFLOWER) SEED WAX, SYNTHETIC FLUORPHLOGOPITE, TRIBEHENIN, DIISOSTEAROYL POLYGLYCERYL-3 DIMER DILINOLEATE, TAPIOCA STARCH, BUTYROSPERMUM PARKII (SHEA) BUTTER, BISABOLOL, TOCOPHEROL, HELIANTHUS ANNUUS (SUNFLOWER) SEED OIL, RICINUS COMMUNIS (CASTOR) SEED OIL, SODIUM HYALURONATE, TOCOPHERYL ACETATE, ASCORBYL PALMITATE, HYDROGENATED CASTOR OIL, CI 77491 (IRON OXIDES), CI 77492 (IRON OXIDES), CI 77499 (IRON OXIDES), CI 77891 (TITANIUM DIOXIDE).'}, page_content='highlighter for under eye circles\\n\\nVegan\\nComplexion type all skin types\\nEffects Brightening, Against dark circles\\nWhen to use day and night\\nLook fresh, whether you slept in or just got a few hours of rest. Catrice Under Eye Brightener opens your eyes instantly and covers any imperfections. The concealer is infused with hydrating hyaluronic acid and nourishing shea butter that awaken your eyes and soothe the area. Enjoy a fresh, dewy look and radiant skin.\\nCharacteristics:\\neliminates dark circles under the eyes\\nrehydrate the skin and give it a visibly luminous appearance\\nimmediate refining effect for the eye area\\neasy to apply, absorbs without a sticky finish\\nlight pink color\\nIngredients:\\nhyaluronic acid – moisturizes and plumps the skin, reduces wrinkles and fine lines \\nshea butter – softens and smoothes the skin, nourishing and regenerating effects\\nHow to apply:\\nApply with your fingers, a make-up sponge, or brush and gently blend in.')"
      ]
     },
     "execution_count": 19,
     "metadata": {},
     "output_type": "execute_result"
    }
   ],
   "source": [
    "docs[0]"
   ]
  },
  {
   "cell_type": "code",
   "execution_count": null,
   "id": "0b46a611",
   "metadata": {},
   "outputs": [],
   "source": []
  }
 ],
 "metadata": {
  "kernelspec": {
   "display_name": "RAG",
   "language": "python",
   "name": "python3"
  },
  "language_info": {
   "codemirror_mode": {
    "name": "ipython",
    "version": 3
   },
   "file_extension": ".py",
   "mimetype": "text/x-python",
   "name": "python",
   "nbconvert_exporter": "python",
   "pygments_lexer": "ipython3",
   "version": "3.10.16"
  }
 },
 "nbformat": 4,
 "nbformat_minor": 5
}
