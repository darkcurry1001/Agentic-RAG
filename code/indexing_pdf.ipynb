{
 "cells": [
  {
   "cell_type": "markdown",
   "metadata": {},
   "source": [
    "### Indexing of Documents used for RAG"
   ]
  },
  {
   "cell_type": "code",
   "execution_count": null,
   "metadata": {},
   "outputs": [
    {
     "name": "stdout",
     "output_type": "stream",
     "text": [
      "Loaded 1424 documents from Beiersdorf-Annual-Report-2024.pdf\n",
      "Loaded 62 documents from LOREAL_2024_Annual_Report.pdf\n"
     ]
    }
   ],
   "source": [
    "from qdrant_client import QdrantClient\n",
    "from qdrant_client.models import Distance, VectorParams\n",
    "from langchain_community.document_loaders import PyPDFLoader\n",
    "from langchain_text_splitters import RecursiveCharacterTextSplitter\n",
    "from langchain_huggingface import HuggingFaceEmbeddings\n",
    "from langchain_qdrant import QdrantVectorStore\n",
    "import os\n",
    "\n",
    "\n",
    "# set parameters\n",
    "#---------------------------------------------------------------------------------------\n",
    "# general parameters\n",
    "rag_docs_folder = \"Rag_docs\" # folder containing pdf files to be loaded\n",
    "\n",
    "# test splitter parameters\n",
    "chunk_size = 1000 # chunk size for splitting documents\n",
    "chunk_overlap = 200 # chunk overlap for splitting documents\n",
    "add_start_index = True # whether to track index in original document\n",
    "\n",
    "# Qdrant parameters\n",
    "min_len = 20 # minimum length of documents to be stored in Qdrant\n",
    "collection_name = \"demo_collection\" # name of the Qdrant collection\n",
    "db_path = \"test_rag_db\" # path to the Qdrant database\n",
    "\n",
    "# embedding model parameters\n",
    "model_name = \"sentence-transformers/all-mpnet-base-v2\" # embedding model name\n",
    "#---------------------------------------------------------------------------------------\n",
    "\n",
    "\n",
    "# get pdf files from Rag_docs folder \n",
    "paths = [path for path in os.listdir(rag_docs_folder) if path.endswith(\".pdf\")]\n",
    "\n",
    "# list of docs, metadata and ids to store in Qdrant\n",
    "docs = []\n",
    "ids = []\n",
    "\n",
    "# text splitter to split documents into smaller chunks for retrieval\n",
    "text_splitter = RecursiveCharacterTextSplitter(\n",
    "    chunk_size=chunk_size,  # chunk size (characters)\n",
    "    chunk_overlap=chunk_overlap,  # chunk overlap (characters)\n",
    "    add_start_index=add_start_index,  # track index in original document\n",
    "    )\n",
    "\n",
    "# load and process pdf files using PyPDFLoader\n",
    "for path in paths:\n",
    "    loader = PyPDFLoader(os.path.join(rag_docs_folder, path))\n",
    "    documents = loader.load()\n",
    "\n",
    "    # split documents into smaller chunks\n",
    "    document_chunks = text_splitter.split_documents(documents)\n",
    "\n",
    "    # only add documents to list that are longer than min_len characters\n",
    "    documents_min_length = [d for d in document_chunks if len(d.page_content) > min_len]\n",
    "\n",
    "    # add self-defined metadata to documents\n",
    "    for doc in documents_min_length:\n",
    "        doc.metadata = {\"source\": path}  \n",
    "\n",
    "    # add documents and metadata to lists for Qdrant upload\n",
    "    docs.extend(documents_min_length)\n",
    "\n",
    "    print(f\"Loaded {len(documents_min_length)} documents from {path}\")\n",
    "\n",
    "ids = [i for i in range(len(docs))]\n",
    "\n",
    "# embedding model to convert text to vectors\n",
    "embeddings = HuggingFaceEmbeddings(model_name=model_name)\n",
    "\n",
    "# Initialize the Qdrant client with a local path\n",
    "client = QdrantClient(path=db_path)\n",
    "\n",
    "try:\n",
    "    if not client.collection_exists(collection_name):\n",
    "        # create a new collection if it doesn't exist\n",
    "\n",
    "        vector_length = len(embeddings.embed_documents([\"dummy\"])[0])  # get vector length from dummy embedding\n",
    "        client.create_collection(\n",
    "            collection_name=collection_name,\n",
    "            vectors_config=VectorParams(size=vector_length, distance=Distance.COSINE),\n",
    "        )\n",
    "\n",
    "    vector_store = QdrantVectorStore(\n",
    "        client=client,\n",
    "        collection_name=collection_name,\n",
    "        embedding=embeddings,\n",
    "    )\n",
    "\n",
    "    _ = vector_store.add_documents(docs, ids=ids) # metadata is contained in the documents\n",
    "finally:\n",
    "    client.close()"
   ]
  },
  {
   "cell_type": "code",
   "execution_count": null,
   "metadata": {},
   "outputs": [],
   "source": []
  }
 ],
 "metadata": {
  "kernelspec": {
   "display_name": "RAG",
   "language": "python",
   "name": "python3"
  },
  "language_info": {
   "codemirror_mode": {
    "name": "ipython",
    "version": 3
   },
   "file_extension": ".py",
   "mimetype": "text/x-python",
   "name": "python",
   "nbconvert_exporter": "python",
   "pygments_lexer": "ipython3",
   "version": "3.10.16"
  }
 },
 "nbformat": 4,
 "nbformat_minor": 2
}
