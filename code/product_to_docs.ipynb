{
 "cells": [
  {
   "cell_type": "markdown",
   "id": "d9963fc3",
   "metadata": {},
   "source": [
    "### script for adding products to the company documents"
   ]
  },
  {
   "cell_type": "code",
   "execution_count": 8,
   "id": "f1d96d1f",
   "metadata": {},
   "outputs": [],
   "source": [
    "import os\n",
    "import json\n",
    "\n",
    "# set parameters\n",
    "#---------------------------------------------------------------------------------------\n",
    "# general parameters\n",
    "rag_docs_folder = \"Rag_docs\" # folder containing json files to be loaded"
   ]
  },
  {
   "cell_type": "code",
   "execution_count": 42,
   "id": "6dc8d1a5",
   "metadata": {},
   "outputs": [
    {
     "name": "stdout",
     "output_type": "stream",
     "text": [
      "{'url': 'https://www.notino.co.uk/catrice/under-eye-brightener-highlighter-to-treat-under-eye-circles/', 'brand': 'Catrice', 'product_name': 'Under Eye Brightener', 'description': 'highlighter for under eye circles', 'price': 3.7, 'full_description': 'Vegan\\nComplexion type all skin types\\nEffects Brightening, Against dark circles\\nWhen to use day and night\\nLook fresh, whether you slept in or just got a few hours of rest. Catrice Under Eye Brightener opens your eyes instantly and covers any imperfections. The concealer is infused with hydrating hyaluronic acid and nourishing shea butter that awaken your eyes and soothe the area. Enjoy a fresh, dewy look and radiant skin.\\nCharacteristics:\\neliminates dark circles under the eyes\\nrehydrate the skin and give it a visibly luminous appearance\\nimmediate refining effect for the eye area\\neasy to apply, absorbs without a sticky finish\\nlight pink color\\nIngredients:\\nhyaluronic acid – moisturizes and plumps the skin, reduces wrinkles and fine lines \\nshea butter – softens and smoothes the skin, nourishing and regenerating effects\\nHow to apply:\\nApply with your fingers, a make-up sponge, or brush and gently blend in.', 'composition': 'PENTAERYTHRITYL TETRAISOSTEARATE, ETHYLHEXYL PALMITATE, MICA, SORBITAN SESQUIOLEATE, EUPHORBIA CERIFERA (CANDELILLA) WAX, HELIANTHUS ANNUUS (SUNFLOWER) SEED WAX, SYNTHETIC FLUORPHLOGOPITE, TRIBEHENIN, DIISOSTEAROYL POLYGLYCERYL-3 DIMER DILINOLEATE, TAPIOCA STARCH, BUTYROSPERMUM PARKII (SHEA) BUTTER, BISABOLOL, TOCOPHEROL, HELIANTHUS ANNUUS (SUNFLOWER) SEED OIL, RICINUS COMMUNIS (CASTOR) SEED OIL, SODIUM HYALURONATE, TOCOPHERYL ACETATE, ASCORBYL PALMITATE, HYDROGENATED CASTOR OIL, CI 77491 (IRON OXIDES), CI 77492 (IRON OXIDES), CI 77499 (IRON OXIDES), CI 77891 (TITANIUM DIOXIDE).'}\n",
      "exception: [Errno 2] No such file or directory: 'Rag_docs\\\\l’oréal paris_env.json'\n",
      "exception: [Errno 2] No such file or directory: 'Rag_docs\\\\l’oréal paris_ethics.json'\n",
      "exception: [Errno 2] No such file or directory: 'Rag_docs\\\\l’oréal paris_info.json'\n",
      "exception: [Errno 2] No such file or directory: 'Rag_docs\\\\la roche-posay_env.json'\n",
      "exception: [Errno 2] No such file or directory: 'Rag_docs\\\\la roche-posay_ethics.json'\n",
      "exception: [Errno 2] No such file or directory: 'Rag_docs\\\\la roche-posay_info.json'\n",
      "exception: [Errno 2] No such file or directory: 'Rag_docs\\\\mustela_env.json'\n",
      "exception: [Errno 2] No such file or directory: 'Rag_docs\\\\mustela_ethics.json'\n",
      "exception: [Errno 2] No such file or directory: 'Rag_docs\\\\mustela_info.json'\n",
      "Product Anew Platinum already in avon_env.json\n",
      "Product Anew Platinum already in avon_ethics.json\n",
      "Creating products list in avon_info.json\n",
      "Writing Rag_docs\\avon_info.json.json\n",
      "exception: [Errno 2] No such file or directory: 'Rag_docs\\\\mario badescu_env.json'\n",
      "exception: [Errno 2] No such file or directory: 'Rag_docs\\\\mario badescu_ethics.json'\n",
      "exception: [Errno 2] No such file or directory: 'Rag_docs\\\\mario badescu_info.json'\n",
      "exception: [Errno 2] No such file or directory: 'Rag_docs\\\\la roche-posay_env.json'\n",
      "exception: [Errno 2] No such file or directory: 'Rag_docs\\\\la roche-posay_ethics.json'\n",
      "exception: [Errno 2] No such file or directory: 'Rag_docs\\\\la roche-posay_info.json'\n",
      "Product Cannabis Sativa Oil Protect & Calm already in avon_env.json\n",
      "Product Cannabis Sativa Oil Protect & Calm already in avon_ethics.json\n",
      "Adding product Cannabis Sativa Oil Protect & Calm to avon_info.json\n",
      "Writing Rag_docs\\avon_info.json.json\n",
      "exception: [Errno 2] No such file or directory: 'Rag_docs\\\\aura herbals_env.json'\n",
      "exception: [Errno 2] No such file or directory: 'Rag_docs\\\\aura herbals_ethics.json'\n",
      "exception: [Errno 2] No such file or directory: 'Rag_docs\\\\aura herbals_info.json'\n",
      "exception: [Errno 2] No such file or directory: 'Rag_docs\\\\mario badescu_env.json'\n",
      "exception: [Errno 2] No such file or directory: 'Rag_docs\\\\mario badescu_ethics.json'\n",
      "exception: [Errno 2] No such file or directory: 'Rag_docs\\\\mario badescu_info.json'\n",
      "exception: [Errno 2] No such file or directory: 'Rag_docs\\\\mario badescu_env.json'\n",
      "exception: [Errno 2] No such file or directory: 'Rag_docs\\\\mario badescu_ethics.json'\n",
      "exception: [Errno 2] No such file or directory: 'Rag_docs\\\\mario badescu_info.json'\n",
      "exception: [Errno 2] No such file or directory: 'Rag_docs\\\\garnier_env.json'\n",
      "exception: [Errno 2] No such file or directory: 'Rag_docs\\\\garnier_ethics.json'\n",
      "exception: [Errno 2] No such file or directory: 'Rag_docs\\\\garnier_info.json'\n",
      "exception: [Errno 2] No such file or directory: 'Rag_docs\\\\missha_env.json'\n",
      "exception: [Errno 2] No such file or directory: 'Rag_docs\\\\missha_ethics.json'\n",
      "exception: [Errno 2] No such file or directory: 'Rag_docs\\\\missha_info.json'\n",
      "exception: [Errno 2] No such file or directory: 'Rag_docs\\\\missha_env.json'\n",
      "exception: [Errno 2] No such file or directory: 'Rag_docs\\\\missha_ethics.json'\n",
      "exception: [Errno 2] No such file or directory: 'Rag_docs\\\\missha_info.json'\n",
      "exception: [Errno 2] No such file or directory: 'Rag_docs\\\\nanolash_env.json'\n",
      "exception: [Errno 2] No such file or directory: 'Rag_docs\\\\nanolash_ethics.json'\n",
      "exception: [Errno 2] No such file or directory: 'Rag_docs\\\\nanolash_info.json'\n",
      "exception: [Errno 2] No such file or directory: 'Rag_docs\\\\obagi_env.json'\n",
      "exception: [Errno 2] No such file or directory: 'Rag_docs\\\\obagi_ethics.json'\n",
      "exception: [Errno 2] No such file or directory: 'Rag_docs\\\\obagi_info.json'\n"
     ]
    }
   ],
   "source": [
    "def write_json_file(path, data):\n",
    "    try:\n",
    "        with open(path, \"w\") as f:\n",
    "            json.dump(data, f, indent=4)\n",
    "            print(f\"Writing {path}.json\")\n",
    "    except Exception as e:\n",
    "        print(f\"exception: {e}\")\n",
    "\n",
    "\n",
    "with open(\"notino_products_info.json\") as f:\n",
    "    products_list = json.load(f)\n",
    "    print(products_list[0])\n",
    "    products_list = products_list[20:35]\n",
    "\n",
    "for product in products_list:\n",
    "    paths = [product[\"brand\"].lower() + \"_env\", product[\"brand\"].lower() + \"_ethics\", product[\"brand\"].lower() + \"_info\"]\n",
    "    # only add name, description and full_description to the json file\n",
    "    product = {\n",
    "        \"product_name\": product[\"product_name\"],\n",
    "        \"description\": product[\"description\"],\n",
    "        \"full_description\": product[\"full_description\"],\n",
    "    }\n",
    "    for path in paths:\n",
    "        # read json file and extend products list if it exists, otherwise create it\n",
    "        full_path = rag_docs_folder + \"\\\\\" + path + \".json\"\n",
    "        try:\n",
    "            with open(full_path) as f:\n",
    "                data = json.load(f)\n",
    "                if \"products\" in data and not product in data[\"products\"]:\n",
    "                    print(f\"Adding product {product['product_name']} to {path}.json\")\n",
    "                    data[\"products\"].append(product)\n",
    "                    write_json_file(full_path, data)\n",
    "                elif \"products\" not in data:\n",
    "                    print(f\"Creating products list in {path}.json\")\n",
    "                    data[\"products\"] = [product]\n",
    "                    write_json_file(full_path, data)\n",
    "                else:\n",
    "                    print(f\"Product {product['product_name']} already in {path}.json\")\n",
    "        except Exception as e:\n",
    "            print(f\"exception: {e}\")\n",
    "            continue"
   ]
  },
  {
   "cell_type": "code",
   "execution_count": null,
   "id": "22341efa",
   "metadata": {},
   "outputs": [],
   "source": []
  }
 ],
 "metadata": {
  "kernelspec": {
   "display_name": "RAG",
   "language": "python",
   "name": "python3"
  },
  "language_info": {
   "codemirror_mode": {
    "name": "ipython",
    "version": 3
   },
   "file_extension": ".py",
   "mimetype": "text/x-python",
   "name": "python",
   "nbconvert_exporter": "python",
   "pygments_lexer": "ipython3",
   "version": "3.10.16"
  }
 },
 "nbformat": 4,
 "nbformat_minor": 5
}
